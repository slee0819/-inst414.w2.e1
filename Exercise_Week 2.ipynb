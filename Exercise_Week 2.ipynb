{
 "cells": [
  {
   "cell_type": "code",
   "execution_count": 2,
   "metadata": {},
   "outputs": [
    {
     "name": "stdout",
     "output_type": "stream",
     "text": [
      "6.816666666666665\n"
     ]
    }
   ],
   "source": [
    "import json\n",
    "\n",
    "with open(\"imdb_movies_1985to2022.json\", 'r') as in_file:\n",
    "    arr = []\n",
    "    for line in in_file:\n",
    "        this_movie = json.loads(line)\n",
    "        for i in range(len(this_movie['actors'])):\n",
    "            if this_movie['actors'][i][1] == \"Hugh Jackman\":\n",
    "                arr.append(this_movie['rating']['avg'])\n",
    "\n",
    "print(sum(arr)/len(arr))"
   ]
  }
 ],
 "metadata": {
  "kernelspec": {
   "display_name": "Python 3",
   "language": "python",
   "name": "python3"
  },
  "language_info": {
   "codemirror_mode": {
    "name": "ipython",
    "version": 3
   },
   "file_extension": ".py",
   "mimetype": "text/x-python",
   "name": "python",
   "nbconvert_exporter": "python",
   "pygments_lexer": "ipython3",
   "version": "3.11.1"
  },
  "orig_nbformat": 4,
  "vscode": {
   "interpreter": {
    "hash": "76a3079ba6d0ec5c679350a87f7a98bf2c48daeef39d3c4875485a45723bf7d0"
   }
  }
 },
 "nbformat": 4,
 "nbformat_minor": 2
}
