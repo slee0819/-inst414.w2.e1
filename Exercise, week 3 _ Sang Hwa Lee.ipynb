{
 "cells": [
  {
   "attachments": {},
   "cell_type": "markdown",
   "metadata": {},
   "source": [
    "Exercise 1"
   ]
  },
  {
   "cell_type": "code",
   "execution_count": 113,
   "metadata": {},
   "outputs": [
    {
     "name": "stdout",
     "output_type": "stream",
     "text": [
      "Manager of DCA is PAUL MALANDRINO, JR.\n",
      "Manager of IAD is MIKE STEWART\n",
      "Manager of BWI is JOHN STEWART\n"
     ]
    }
   ],
   "source": [
    "import requests\n",
    "\n",
    "r = requests.get('https://api.aviationapi.com/v1/airports/?apt=DCA,IAD,BWI')\n",
    "\n",
    "airports = r.json()\n",
    "\n",
    "for i in airports:\n",
    "    print(f\"Manager of {i} is {airports[i][0]['manager']}\")\n"
   ]
  },
  {
   "attachments": {},
   "cell_type": "markdown",
   "metadata": {},
   "source": [
    "Exercise 2"
   ]
  },
  {
   "cell_type": "code",
   "execution_count": 114,
   "metadata": {},
   "outputs": [],
   "source": [
    "%matplotlib inline"
   ]
  },
  {
   "cell_type": "code",
   "execution_count": 115,
   "metadata": {},
   "outputs": [],
   "source": [
    "import json\n",
    "import random\n",
    "\n",
    "import numpy as np\n",
    "import pandas as pd\n",
    "import networkx as nx\n"
   ]
  },
  {
   "cell_type": "code",
   "execution_count": 116,
   "metadata": {},
   "outputs": [],
   "source": [
    "g = nx.Graph() # Build the graph"
   ]
  },
  {
   "cell_type": "code",
   "execution_count": 117,
   "metadata": {},
   "outputs": [],
   "source": [
    "with open(\"imdb_movies_1985to2022.json\", \"r\") as in_file:\n",
    "    for line in in_file:\n",
    "        \n",
    "        # Load the movie from this line\n",
    "        this_movie = json.loads(line)\n",
    "            \n",
    "        # Create a node for every actor\n",
    "        for actor_id,actor_name in this_movie['actors']:\n",
    "            # Instead of passing, add the actor to the graph\n",
    "            pass\n",
    "            \n",
    "        # Iterate through the list of actors, generating all pairs\n",
    "        #. Starting with the first actor in the list, generate pairs with all subsequent actors\n",
    "        #. then continue to second actor in the list and repeat\n",
    "        i = 0 # Counter in the list\n",
    "        for left_actor_id,left_actor_name in this_movie['actors']:\n",
    "            g.add_node(left_actor_name)\n",
    "            for right_actor_id,right_actor_name in this_movie['actors'][i+1:]:\n",
    "\n",
    "                # Get the current weight, if it exists\n",
    "                \n",
    "                # Add an edge for these actors\n",
    "                \n",
    "                # Print edges\n",
    "                g.add_edge(left_actor_name, right_actor_name)\n",
    "                \n",
    "            i += 1 # increment the counter\n",
    "            "
   ]
  },
  {
   "cell_type": "code",
   "execution_count": 118,
   "metadata": {},
   "outputs": [
    {
     "name": "stdout",
     "output_type": "stream",
     "text": [
      "Nodes: 260725\n",
      "Eric Roberts has 658 neighbors\n",
      "Michael Madsen has 346 neighbors\n",
      "Tom Sizemore has 308 neighbors\n",
      "Joe Estevez has 303 neighbors\n",
      "Danny Trejo has 277 neighbors\n",
      "Nicolas Cage has 259 neighbors\n",
      "Lloyd Kaufman has 256 neighbors\n",
      "Debbie Rochon has 243 neighbors\n",
      "Bruce Willis has 240 neighbors\n",
      "Lance Henriksen has 237 neighbors\n",
      "Tony Devon has 232 neighbors\n",
      "Michael Paré has 225 neighbors\n",
      "Edward Asner has 225 neighbors\n",
      "Samuel L. Jackson has 225 neighbors\n",
      "Joe Hammerstone has 222 neighbors\n",
      "Dean Cain has 219 neighbors\n",
      "C. Thomas Howell has 218 neighbors\n",
      "Willem Dafoe has 214 neighbors\n",
      "Morgan Freeman has 209 neighbors\n",
      "Peter Coyote has 208 neighbors\n"
     ]
    }
   ],
   "source": [
    "print(\"Nodes:\", len(g.nodes))\n",
    "filtered = sorted(g.degree, key=lambda x: x[1], reverse=True)\n",
    "for i in range(20):\n",
    "    print(f'{filtered[i][0]} has {filtered[i][1]} neighbors')"
   ]
  },
  {
   "cell_type": "code",
   "execution_count": 119,
   "metadata": {},
   "outputs": [],
   "source": [
    "# If you want to explore this graph in Gephi or some other\n",
    "#. graph analysis tool, NetworkX makes it easy to export data.\n",
    "#. Here, we use the GraphML format, which Gephi can read \n",
    "#. natively, to keep node attributes like Actor Name\n",
    "nx.write_graphml(g, \"actors.graphml\")"
   ]
  },
  {
   "cell_type": "code",
   "execution_count": 120,
   "metadata": {},
   "outputs": [],
   "source": [
    "top_k = 20 # how many of the most central nodes to print"
   ]
  },
  {
   "attachments": {},
   "cell_type": "markdown",
   "metadata": {},
   "source": [
    "Exercise 3"
   ]
  },
  {
   "attachments": {},
   "cell_type": "markdown",
   "metadata": {},
   "source": [
    "2. Weather API\n",
    "4. I think it is very interesting to find out the real-time weather at the desired location using the weather API. \n",
    "Also, I think using geolocation to retrieve the weather of the place where you are currently located through the API will be an important way to use the weather-related API."
   ]
  }
 ],
 "metadata": {
  "kernelspec": {
   "display_name": "Python 3",
   "language": "python",
   "name": "python3"
  },
  "language_info": {
   "name": "python",
   "version": "3.11.1"
  },
  "orig_nbformat": 4,
  "vscode": {
   "interpreter": {
    "hash": "76a3079ba6d0ec5c679350a87f7a98bf2c48daeef39d3c4875485a45723bf7d0"
   }
  }
 },
 "nbformat": 4,
 "nbformat_minor": 2
}
