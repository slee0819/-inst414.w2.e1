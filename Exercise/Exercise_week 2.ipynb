{
 "cells": [
  {
   "cell_type": "code",
   "execution_count": null,
   "metadata": {},
   "outputs": [],
   "source": [
    "import json\n",
    "\n",
    "with open(\"imdb_movies_1985to2022.json\", 'r') as in_file:\n",
    "    arr = []\n",
    "    for line in in_file:\n",
    "        this_movie = json.loads(line)\n",
    "        for i in range(len(this_movie['actors'])):\n",
    "            if this_movie['actors'][i][1] == \"Hugh Jackman\":\n",
    "                arr.append(this_movie['rating']['avg'])\n",
    "\n",
    "print(sum(arr)/len(arr))"
   ]
  }
 ],
 "metadata": {
  "language_info": {
   "name": "python"
  },
  "orig_nbformat": 4
 },
 "nbformat": 4,
 "nbformat_minor": 2
}
